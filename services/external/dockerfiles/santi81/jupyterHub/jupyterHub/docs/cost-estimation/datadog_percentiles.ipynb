{
 "cells": [
  {
   "cell_type": "code",
   "execution_count": null,
   "metadata": {
    "collapsed": false,
    "deletable": true,
    "editable": true
   },
   "outputs": [],
   "source": [
    "!pip install datadog"
   ]
  },
  {
   "cell_type": "code",
   "execution_count": null,
   "metadata": {
    "collapsed": true,
    "deletable": true,
    "editable": true
   },
   "outputs": [],
   "source": [
    "import calendar\n",
    "import time\n",
    "import json\n",
    "import datadog\n",
    "import numpy as np"
   ]
  },
  {
   "cell_type": "code",
   "execution_count": null,
   "metadata": {
    "collapsed": false,
    "deletable": true,
    "editable": true
   },
   "outputs": [],
   "source": [
    "# datadog keys file looks like\n",
    "# {\n",
    "#    \"api_key\":\"long_string\",\n",
    "#    \"app_key\":\"another_long_string\"\n",
    "# }\n",
    "datadog_keys_file = '/home/jovyan/.datadog.json'\n",
    "keys = open(datadog_keys_file).read()\n",
    "options = json.loads(keys)\n",
    "datadog.initialize(**options)\n",
    "m = datadog.api.metrics.Metric()"
   ]
  },
  {
   "cell_type": "code",
   "execution_count": null,
   "metadata": {
    "collapsed": true
   },
   "outputs": [],
   "source": [
    "# defaults\n",
    "start = calendar.timegm((2017, 2, 28, 0, 0, 0)) # 2017-02-28 00:00:00\n",
    "end = start + 24*3600*7 # a week\n",
    "hub = 'datahub'         # hub instance\n",
    "percentile = 80"
   ]
  },
  {
   "cell_type": "code",
   "execution_count": null,
   "metadata": {
    "collapsed": true,
    "deletable": true,
    "editable": true
   },
   "outputs": [],
   "source": [
    "datahub_usage = m.query(start=start, end=end, query=hub+'.jupyterhub.users.running{*}')"
   ]
  },
  {
   "cell_type": "code",
   "execution_count": null,
   "metadata": {
    "collapsed": false,
    "deletable": true,
    "editable": true
   },
   "outputs": [],
   "source": [
    "active_pods = np.array(list(map(lambda x: x[1], datahub_usage['series'][0]['pointlist'])))"
   ]
  },
  {
   "cell_type": "code",
   "execution_count": null,
   "metadata": {
    "collapsed": false,
    "deletable": true,
    "editable": true
   },
   "outputs": [],
   "source": [
    "np.percentile(active_pods, percentile)"
   ]
  }
 ],
 "metadata": {
  "kernelspec": {
   "display_name": "Python 3",
   "language": "python",
   "name": "python3"
  },
  "language_info": {
   "codemirror_mode": {
    "name": "ipython",
    "version": 3
   },
   "file_extension": ".py",
   "mimetype": "text/x-python",
   "name": "python",
   "nbconvert_exporter": "python",
   "pygments_lexer": "ipython3",
   "version": "3.5.2"
  }
 },
 "nbformat": 4,
 "nbformat_minor": 2
}
