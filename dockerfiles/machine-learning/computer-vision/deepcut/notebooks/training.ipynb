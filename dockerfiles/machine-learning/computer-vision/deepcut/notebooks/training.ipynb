{
 "cells": [
  {
   "cell_type": "code",
   "execution_count": 1,
   "metadata": {
    "ExecuteTime": {
     "end_time": "2017-07-01T17:51:03.526084",
     "start_time": "2017-07-01T17:51:02.381187"
    },
    "collapsed": false
   },
   "outputs": [
    {
     "name": "stderr",
     "output_type": "stream",
     "text": [
      "Using TensorFlow backend.\n"
     ]
    }
   ],
   "source": [
    "import os, sys\n",
    "import pandas as pd\n",
    "\n",
    "sys.path.append('../deepcut')\n",
    "\n",
    "from train import *"
   ]
  },
  {
   "cell_type": "code",
   "execution_count": 2,
   "metadata": {
    "ExecuteTime": {
     "end_time": "2017-07-01T17:51:42.362448",
     "start_time": "2017-07-01T17:51:05.173439"
    },
    "collapsed": false
   },
   "outputs": [
    {
     "name": "stdout",
     "output_type": "stream",
     "text": [
      "Save article to CSV file\n",
      "Save encyclopedia to CSV file\n",
      "Save news to CSV file\n",
      "Save novel to CSV file\n"
     ]
    }
   ],
   "source": [
    "# BEST corpus should be extracted into 'input' folder on the same directory as this notebook \n",
    "\n",
    "generate_best_dataset('input')"
   ]
  },
  {
   "cell_type": "code",
   "execution_count": 3,
   "metadata": {
    "ExecuteTime": {
     "end_time": "2017-07-01T23:59:16.422755",
     "start_time": "2017-07-01T17:52:07.311854"
    },
    "collapsed": false
   },
   "outputs": [
    {
     "name": "stdout",
     "output_type": "stream",
     "text": [
      "Train on 18724989 samples, validate on 2044274 samples\n",
      "Epoch 1/10\n",
      "1238s - loss: 0.0612 - acc: 0.9774 - val_loss: 0.0445 - val_acc: 0.9844\n",
      "Epoch 2/10\n",
      "1244s - loss: 0.0433 - acc: 0.9846 - val_loss: 0.0399 - val_acc: 0.9861\n",
      "Epoch 3/10\n",
      "1241s - loss: 0.0387 - acc: 0.9863 - val_loss: 0.0379 - val_acc: 0.9870\n",
      "Epoch 4/10\n",
      "1223s - loss: 0.0362 - acc: 0.9873 - val_loss: 0.0363 - val_acc: 0.9876\n",
      "Epoch 5/10\n",
      "1227s - loss: 0.0345 - acc: 0.9879 - val_loss: 0.0349 - val_acc: 0.9879\n",
      "Epoch 6/10\n",
      "1241s - loss: 0.0331 - acc: 0.9884 - val_loss: 0.0345 - val_acc: 0.9882\n",
      "Epoch 7/10\n",
      "1238s - loss: 0.0321 - acc: 0.9888 - val_loss: 0.0343 - val_acc: 0.9884\n",
      "Epoch 8/10\n",
      "1232s - loss: 0.0313 - acc: 0.9891 - val_loss: 0.0330 - val_acc: 0.9887\n",
      "Epoch 9/10\n",
      "1216s - loss: 0.0307 - acc: 0.9893 - val_loss: 0.0331 - val_acc: 0.9887\n",
      "Epoch 10/10\n",
      "1209s - loss: 0.0301 - acc: 0.9895 - val_loss: 0.0332 - val_acc: 0.9887\n",
      "Train on 18724989 samples, validate on 2044274 samples\n",
      "Epoch 1/3\n",
      "945s - loss: 0.0284 - acc: 0.9901 - val_loss: 0.0320 - val_acc: 0.9891\n",
      "Epoch 2/3\n",
      "944s - loss: 0.0278 - acc: 0.9903 - val_loss: 0.0321 - val_acc: 0.9891\n",
      "Epoch 3/3\n",
      "945s - loss: 0.0275 - acc: 0.9904 - val_loss: 0.0313 - val_acc: 0.9892\n",
      "Train on 18724989 samples, validate on 2044274 samples\n",
      "Epoch 1/3\n",
      "780s - loss: 0.0257 - acc: 0.9910 - val_loss: 0.0313 - val_acc: 0.9896\n",
      "Epoch 2/3\n",
      "782s - loss: 0.0254 - acc: 0.9912 - val_loss: 0.0309 - val_acc: 0.9895\n",
      "Epoch 3/3\n",
      "782s - loss: 0.0251 - acc: 0.9912 - val_loss: 0.0311 - val_acc: 0.9896\n",
      "Train on 18724989 samples, validate on 2044274 samples\n",
      "Epoch 1/3\n",
      "752s - loss: 0.0245 - acc: 0.9915 - val_loss: 0.0308 - val_acc: 0.9896\n",
      "Epoch 2/3\n",
      "750s - loss: 0.0244 - acc: 0.9915 - val_loss: 0.0308 - val_acc: 0.9896\n",
      "Epoch 3/3\n",
      "751s - loss: 0.0242 - acc: 0.9915 - val_loss: 0.0304 - val_acc: 0.9898\n",
      "Train on 18724989 samples, validate on 2044274 samples\n",
      "Epoch 1/3\n",
      "751s - loss: 0.0237 - acc: 0.9917 - val_loss: 0.0305 - val_acc: 0.9897\n",
      "Epoch 2/3\n",
      "749s - loss: 0.0236 - acc: 0.9918 - val_loss: 0.0305 - val_acc: 0.9898\n",
      "Epoch 3/3\n",
      "753s - loss: 0.0235 - acc: 0.9918 - val_loss: 0.0307 - val_acc: 0.9898\n"
     ]
    }
   ],
   "source": [
    "model = train_model('cleaned_data')"
   ]
  },
  {
   "cell_type": "code",
   "execution_count": 4,
   "metadata": {
    "ExecuteTime": {
     "end_time": "2017-07-02T00:01:15.488025",
     "start_time": "2017-07-01T23:59:16.427044"
    },
    "collapsed": false
   },
   "outputs": [
    {
     "data": {
      "text/plain": [
       "(0.98121855103256694, 0.97789486109173629, 0.98456491128245205)"
      ]
     },
     "execution_count": 4,
     "metadata": {},
     "output_type": "execute_result"
    }
   ],
   "source": [
    "evaluate('cleaned_data', model)"
   ]
  },
  {
   "cell_type": "markdown",
   "metadata": {
    "collapsed": true
   },
   "source": [
    "The performance is lower when we strip name entity and abbreviation tag (< NE >....< /NE > and < AB >...< /AB >) out of training and testing data. "
   ]
  },
  {
   "cell_type": "code",
   "execution_count": null,
   "metadata": {
    "collapsed": true
   },
   "outputs": [],
   "source": []
  }
 ],
 "metadata": {
  "kernelspec": {
   "display_name": "Python 3",
   "language": "python",
   "name": "python3"
  },
  "language_info": {
   "codemirror_mode": {
    "name": "ipython",
    "version": 3
   },
   "file_extension": ".py",
   "mimetype": "text/x-python",
   "name": "python",
   "nbconvert_exporter": "python",
   "pygments_lexer": "ipython3",
   "version": "3.6.0"
  }
 },
 "nbformat": 4,
 "nbformat_minor": 2
}
